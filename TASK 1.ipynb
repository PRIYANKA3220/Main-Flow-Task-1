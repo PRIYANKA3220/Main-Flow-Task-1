{
 "cells": [
  {
   "cell_type": "code",
   "execution_count": 11,
   "id": "d7a394dc-b85f-4e15-8814-a453b6a46601",
   "metadata": {},
   "outputs": [],
   "source": [
    "# DATE - 05/07/24"
   ]
  },
  {
   "cell_type": "code",
   "execution_count": 12,
   "id": "2082b0a6-05b1-4d84-8fd7-f08420ac6f1e",
   "metadata": {},
   "outputs": [
    {
     "name": "stdout",
     "output_type": "stream",
     "text": [
      "UPDATED LIST : [3, 'FRUIT', 25, 'MANGO', 5000, 10, 'ROSE']\n"
     ]
    }
   ],
   "source": [
    "# CREATING A LIST\n",
    "\n",
    "L = [3,'APPLE',25,'MANGO','CITY',5000,10]\n",
    "\n",
    "# ADDING ELEMENT IN LIST\n",
    "\n",
    "L.append('ROSE')\n",
    "\n",
    "# REMOVE ELEMENT IN LIST\n",
    "\n",
    "L.remove('CITY')\n",
    "\n",
    "# MODIFYING ELEMENT IN LIST\n",
    "\n",
    "L[1]='FRUIT'\n",
    "\n",
    "print('UPDATED LIST :',L)"
   ]
  },
  {
   "cell_type": "code",
   "execution_count": 13,
   "id": "3af9987f-009a-4cb0-9ceb-f728740fc9ec",
   "metadata": {},
   "outputs": [
    {
     "name": "stdout",
     "output_type": "stream",
     "text": [
      "UPDATED DICTONARY : {'Name': 'Priyanka', 'Age': '24', 'ID': 'DONE', 'ROLL NO': '1201'}\n"
     ]
    }
   ],
   "source": [
    "# CREATING A DICTONARY\n",
    "\n",
    "D = { \"Name\":\"Priyanka\",\"Age\":\"24\",\"College\":\"Done\",\"ID\":\"Yes\"}\n",
    "\n",
    "# ADDING ELEMENT IN DICTONARY\n",
    "\n",
    "D[\"ROLL NO\"]=\"1201\"\n",
    "\n",
    "# DELETE ELEMENT IN DICTONARY\n",
    "\n",
    "del D[\"College\"]\n",
    "\n",
    "# MODIFYING ELEMENT IN DICTONARY\n",
    "\n",
    "D[\"ID\"]=\"DONE\"\n",
    "\n",
    "print('UPDATED DICTONARY :' ,D)"
   ]
  },
  {
   "cell_type": "code",
   "execution_count": 14,
   "id": "8ffc45e2-0b01-4ad0-a3d1-f7d2f9d99451",
   "metadata": {},
   "outputs": [
    {
     "name": "stdout",
     "output_type": "stream",
     "text": [
      "UPDATED SET : {0.67, 'E', 'U', 'O', 78, 'P', 'I', 23}\n"
     ]
    }
   ],
   "source": [
    "# CREATING A SET\n",
    "\n",
    "S = {78,0.67,\"A\",\"E\",\"I\",\"O\",\"U\",23}\n",
    "\n",
    "# ADDING ELEMENT IN SET\n",
    "\n",
    "S.add(\"P\")\n",
    "\n",
    "# REMOVE ELEMENT IN SET\n",
    "\n",
    "S.remove(\"A\")\n",
    "\n",
    "# MODIFYING ELEMENT IN SET\n",
    "\n",
    "S.discard(2)\n",
    "\n",
    "print('UPDATED SET :' , S)"
   ]
  }
 ],
 "metadata": {
  "kernelspec": {
   "display_name": "Python 3 (ipykernel)",
   "language": "python",
   "name": "python3"
  },
  "language_info": {
   "codemirror_mode": {
    "name": "ipython",
    "version": 3
   },
   "file_extension": ".py",
   "mimetype": "text/x-python",
   "name": "python",
   "nbconvert_exporter": "python",
   "pygments_lexer": "ipython3",
   "version": "3.11.7"
  }
 },
 "nbformat": 4,
 "nbformat_minor": 5
}
